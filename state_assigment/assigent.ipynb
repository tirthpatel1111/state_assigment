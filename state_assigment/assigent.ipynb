{
 "cells": [
  {
   "cell_type": "markdown",
   "metadata": {},
   "source": [
    "## question 1"
   ]
  },
  {
   "cell_type": "code",
   "execution_count": 3,
   "metadata": {},
   "outputs": [
    {
     "name": "stdout",
     "output_type": "stream",
     "text": [
      "the average sles of unit is 58.75\n",
      "the median value is lower than mean because week 4 has 70 unit sales it give week sales performance 57.5\n",
      "There is no mode since all values are unique.\n"
     ]
    }
   ],
   "source": [
    "import numpy as np\n",
    "import scipy.stats as stats\n",
    "import pandas as pd\n",
    "data=np.array([50,60,55,70])\n",
    "mean=np.mean(data)\n",
    "median=np.median(data)\n",
    "mode=stats.mode(data)\n",
    "\n",
    "print(\"the average sles of unit is\",mean)\n",
    "print(\"the median value is lower than mean because week 4 has 70 unit sales it give week sales performance\",median)\n",
    "# print(mode.count)\n",
    "if mode.count > 1:\n",
    "    print(\"The most frequently occurring sales figure is:\", mode.mode)\n",
    "else:\n",
    "    print(\"There is no mode since all values are unique.\")"
   ]
  },
  {
   "cell_type": "markdown",
   "metadata": {},
   "source": [
    "## question 2"
   ]
  },
  {
   "cell_type": "code",
   "execution_count": 4,
   "metadata": {},
   "outputs": [
    {
     "name": "stdout",
     "output_type": "stream",
     "text": [
      "the avaerage waiting time is 17.0\n",
      "the center waiting time experince by custome 15.0\n",
      "The most frequently occurring sales figure is: 10\n",
      "to imporve service conclustion: the average time is 17 so try to big order basic recipes are already create which imporve sevices\n",
      "according to average time bsic recipes like rtoi are alredy crete and anthoer basic thing\n"
     ]
    }
   ],
   "source": [
    "data=np.array([15, 10, 20, 25, 15, 10, 30, 20, 15, 10,10, 25, 15, 20, 20, 15, 10, 10, 20, 25])\n",
    "mean=np.mean(data)\n",
    "median=np.median(data)\n",
    "mode=stats.mode(data)\n",
    "print(\"the avaerage waiting time is\",mean)\n",
    "print(\"the center waiting time experince by custome\",median)\n",
    "if mode.count > 1:\n",
    "    print(\"The most frequently occurring sales figure is:\", mode.mode)\n",
    "else:\n",
    "    print(\"There is no mode since all values are unique.\")\n",
    "    \n",
    "print(\"to imporve service conclustion: the average time is 17 so try to big order basic recipes are already create which imporve sevices\")\n",
    "print(\"according to average time bsic recipes like rtoi are alredy crete and anthoer basic thing\") "
   ]
  },
  {
   "cell_type": "markdown",
   "metadata": {},
   "source": [
    "## question 3"
   ]
  },
  {
   "cell_type": "code",
   "execution_count": 5,
   "metadata": {},
   "outputs": [
    {
     "name": "stdout",
     "output_type": "stream",
     "text": [
      "The average rental time is  3.44\n",
      "the typical or central rental duration experienced by customers 3.0\n",
      "The most frequently occurring sales figure is: 2\n"
     ]
    }
   ],
   "source": [
    "data=np.array([3, 2, 5, 4, 7, 2, 3, 3, 1, 6,\n",
    "4, 2, 3, 5, 2, 4, 2, 1, 3, 5,\n",
    "6, 3, 2, 1, 4, 2, 4, 5, 3, 2,\n",
    "7, 2, 3, 4, 5, 1, 6, 2, 4, 3,\n",
    "5, 3, 2, 4, 2, 6, 3, 2, 4, 5])\n",
    "mean=np.mean(data)\n",
    "median=np.median(data)\n",
    "mode=stats.mode(data)\n",
    "\n",
    "print(\"The average rental time is \",mean)\n",
    "print(\"the typical or central rental duration experienced by customers\",median)\n",
    "if mode.count > 1:\n",
    "    print(\"The most frequently occurring sales figure is:\", mode.mode)\n",
    "else:\n",
    "    print(\"There is no mode since all values are unique.\")"
   ]
  },
  {
   "cell_type": "markdown",
   "metadata": {},
   "source": [
    "## question 4"
   ]
  },
  {
   "cell_type": "code",
   "execution_count": 6,
   "metadata": {},
   "outputs": [
    {
     "name": "stdout",
     "output_type": "stream",
     "text": [
      "the range of the production output for the machine is  35\n",
      "the variance of the production output for the machine  123.33333333333333\n",
      "the standard deviation of the production output for themachine  11.105554165971787\n"
     ]
    }
   ],
   "source": [
    "data=np.array([120,110,130,115,125,105,135,115,125,140])\n",
    "range=np.ptp(data)\n",
    "variance=np.var(data,ddof=1)\n",
    "sd=np.std(data,ddof=1)\n",
    "print(\"the range of the production output for the machine is \",range)\n",
    "print(\"the variance of the production output for the machine \",variance)\n",
    "print(\"the standard deviation of the production output for themachine \",sd)"
   ]
  },
  {
   "cell_type": "markdown",
   "metadata": {},
   "source": [
    "## question 5"
   ]
  },
  {
   "cell_type": "code",
   "execution_count": 7,
   "metadata": {},
   "outputs": [
    {
     "name": "stdout",
     "output_type": "stream",
     "text": [
      "the range of the daily sales is  400\n",
      "the variance of the daily sales  13163.793103448275\n",
      " the standard deviation of the daily sales  114.73357443855863\n"
     ]
    }
   ],
   "source": [
    "data=np.array([500, 700, 400, 600, 550, 750, 650, 500, 600, 550,\n",
    "800, 450, 700, 550, 600, 400, 650, 500, 750, 550,\n",
    "700, 600, 500, 800, 550, 650, 400, 600, 750, 550\n",
    "])\n",
    "range=np.ptp(data)\n",
    "variance=np.var(data,ddof=1)\n",
    "sd=np.std(data,ddof=1)\n",
    "print(\"the range of the daily sales is \",range)\n",
    "print(\"the variance of the daily sales \",variance)\n",
    "print(\" the standard deviation of the daily sales \",sd)"
   ]
  },
  {
   "cell_type": "markdown",
   "metadata": {},
   "source": [
    "## question 6"
   ]
  },
  {
   "cell_type": "code",
   "execution_count": 8,
   "metadata": {},
   "outputs": [
    {
     "name": "stdout",
     "output_type": "stream",
     "text": [
      " the range of the delivery times  6\n",
      "the variance of the delivery times  2.336326530612245\n",
      " the standard deviation of the delivery times  1.528504671439458\n"
     ]
    }
   ],
   "source": [
    "data=np.array([3, 5, 2, 4, 6, 2, 3, 4, 2, 5,\n",
    "7, 2, 3, 4, 2, 4, 2, 3, 5, 6,\n",
    "3, 2, 1, 4, 2, 4, 5, 3, 2, 7,\n",
    "2, 3, 4, 5, 1, 6, 2, 4, 3, 5,\n",
    "3, 2, 4, 2, 6, 3, 2, 4, 5, 3\n",
    "])\n",
    "range=np.ptp(data)\n",
    "variance=np.var(data,ddof=1)\n",
    "sd=np.std(data,ddof=1)\n",
    "print(\" the range of the delivery times \",range)\n",
    "print(\"the variance of the delivery times \",variance)\n",
    "print(\" the standard deviation of the delivery times \",sd)"
   ]
  },
  {
   "cell_type": "markdown",
   "metadata": {},
   "source": [
    "## question 7"
   ]
  },
  {
   "cell_type": "code",
   "execution_count": 9,
   "metadata": {},
   "outputs": [
    {
     "name": "stdout",
     "output_type": "stream",
     "text": [
      "the average monthly revenue for the product  132.5\n",
      "the median of data is  132.5\n",
      "the frequently coming value is  130\n",
      "the range of monthly revenue for the product  45\n"
     ]
    }
   ],
   "source": [
    "data=np.array([120, 150, 110, 135, 125, 140, 130, 155, 115, 145, 135, 130])\n",
    "\n",
    "mean=np.mean(data)\n",
    "median=np.median(data)\n",
    "mode=stats.mode(data)\n",
    "cdispersion=np.ptp(data)\n",
    "\n",
    "print(\"the average monthly revenue for the product \",mean)\n",
    "print(\"the median of data is \",median)\n",
    "print('the frequently coming value is ',mode[0])\n",
    "print(\"the range of monthly revenue for the product \",cdispersion)"
   ]
  },
  {
   "cell_type": "markdown",
   "metadata": {},
   "source": [
    "## question 8"
   ]
  },
  {
   "cell_type": "code",
   "execution_count": 10,
   "metadata": {},
   "outputs": [
    {
     "name": "stdout",
     "output_type": "stream",
     "text": [
      "the average monthly revenue for the product  7.5\n",
      "the median of data is  7.5\n",
      "the frequently coming value is  7\n",
      "the standard deviation of the satisfaction ratings  3\n"
     ]
    }
   ],
   "source": [
    "data=np.array([8, 7, 9, 6, 7, 8, 9, 8, 7, 6,\n",
    "8, 9, 7, 8, 7, 6, 8, 9, 6, 7,\n",
    "8, 9, 7, 6, 7, 8, 9, 8, 7, 6,\n",
    "9, 8, 7, 6, 8, 9, 7, 8, 7, 6,\n",
    "9, 8, 7, 6, 7, 8, 9, 8, 7, 6])\n",
    "\n",
    "mean=np.mean(data)\n",
    "median=np.median(data)\n",
    "mode=stats.mode(data)\n",
    "cdispersion=np.ptp(data)\n",
    "\n",
    "print(\"the average monthly revenue for the product \",mean)\n",
    "print(\"the median of data is \",median)\n",
    "print('the frequently coming value is ',mode[0])\n",
    "print(\"the standard deviation of the satisfaction ratings \",cdispersion)"
   ]
  },
  {
   "cell_type": "markdown",
   "metadata": {},
   "source": [
    "## question 9"
   ]
  },
  {
   "cell_type": "code",
   "execution_count": 11,
   "metadata": {},
   "outputs": [
    {
     "name": "stdout",
     "output_type": "stream",
     "text": [
      "the average of given data  16.74\n",
      "the median of data is  16.0\n",
      "the frequently coming value is  16\n",
      "the standard deviation of the satisfaction ratings  19\n",
      "the standard deviation of the wait times for customers  4.122183887213184\n"
     ]
    }
   ],
   "source": [
    "data=np.array([10, 15, 12, 18, 20, 25, 8, 14, 16, 22,\n",
    "9, 17, 11, 13, 19, 23, 21, 16, 24, 27,\n",
    "13, 10, 18, 16, 12, 14, 19, 21, 11, 17,\n",
    "15, 20, 26, 13, 12, 14, 22, 19, 16, 11,\n",
    "25, 18, 16, 13, 21, 20, 15, 12, 19, 17,\n",
    "14, 16, 23, 18, 15, 11, 19, 22, 17, 12,\n",
    "16, 14, 18, 20, 25, 13, 11, 22, 19, 17,\n",
    "15, 16, 13, 14, 18, 20, 19, 21, 17, 12,\n",
    "15, 13, 16, 14, 22, 21, 19, 18, 16, 11,\n",
    "17, 14, 12, 20, 23, 19, 15, 16, 13, 18\n",
    "])\n",
    "\n",
    "mean=np.mean(data)\n",
    "median=np.median(data)\n",
    "mode=stats.mode(data)\n",
    "cdispersion=np.ptp(data)\n",
    "sd=np.std(data)\n",
    "\n",
    "print(\"the average of given data \",mean)\n",
    "print(\"the median of data is \",median)\n",
    "print('the frequently coming value is ',mode[0])\n",
    "print(\"the standard deviation of the satisfaction ratings \",cdispersion)\n",
    "print(\"the standard deviation of the wait times for customers \",sd)"
   ]
  },
  {
   "cell_type": "markdown",
   "metadata": {},
   "source": [
    "## question 10"
   ]
  },
  {
   "cell_type": "code",
   "execution_count": 12,
   "metadata": {},
   "outputs": [
    {
     "name": "stdout",
     "output_type": "stream",
     "text": [
      "the average of given data  30.6\n",
      "the median of data is  30.5\n",
      "the frequently coming value is  30\n",
      "the range of fuel efficiency for each vehicle model 1  5\n",
      "the variance of the fuel efficiency for each vehicle model 1 1.4282856857085702\n",
      " \n",
      "the average of given data  25.9\n",
      "the median of data is  26.0\n",
      "the frequently coming value is  25\n",
      "the range of fuel efficiency for each vehicle model 2  5\n",
      "the variance of the fuel efficiency for each vehicle model 2 1.57797338380595\n",
      " \n",
      "the average of given data  22.9\n",
      "the median of data is  23.0\n",
      "the frequently coming value is  22\n",
      "the range of fuel efficiency for each vehicle model 3  5\n",
      "the variance of the fuel efficiency for each vehicle model 3 1.57797338380595\n",
      " \n",
      "the average of given data  18.8\n",
      "the median of data is  19.0\n",
      "the frequently coming value is  19\n",
      "the range of fuel efficiency for each vehicle model 4  4\n",
      "the variance of the fuel efficiency for each vehicle model 4 1.2489995996796797\n",
      " \n",
      "the average of given data  34.2\n",
      "the median of data is  34.0\n",
      "the frequently coming value is  35\n",
      "the range of fuel efficiency for each vehicle model 5  4\n",
      "the variance of the fuel efficiency for each vehicle model 5 1.2489995996796797\n"
     ]
    }
   ],
   "source": [
    "model1=np.array([30, 32, 33, 28, 31, 30, 29, 30, 32, 31])\n",
    "mean=np.mean(model1)\n",
    "median=np.median(model1)\n",
    "mode=stats.mode(model1)\n",
    "cdispersion=np.ptp(model1)\n",
    "sd=np.std(model1)\n",
    "\n",
    "print(\"the average of given data \",mean)\n",
    "print(\"the median of data is \",median)\n",
    "print('the frequently coming value is ',mode[0])\n",
    "print(\"the range of fuel efficiency for each vehicle model 1 \",cdispersion)\n",
    "print(\"the variance of the fuel efficiency for each vehicle model 1\",sd)\n",
    "\n",
    "model2=np.array([25, 27, 26, 23, 28, 24, 26, 25, 27, 28,])\n",
    "mean=np.mean(model2)\n",
    "median=np.median(model2)\n",
    "mode=stats.mode(model2)\n",
    "cdispersion=np.ptp(model2)\n",
    "sd=np.std(model2)\n",
    "print(\" \")\n",
    "print(\"the average of given data \",mean)\n",
    "print(\"the median of data is \",median)\n",
    "print('the frequently coming value is ',mode[0])\n",
    "print(\"the range of fuel efficiency for each vehicle model 2 \",cdispersion)\n",
    "print(\"the variance of the fuel efficiency for each vehicle model 2\",sd)\n",
    "\n",
    "model3=np.array([22, 23, 20, 25, 21, 24, 23, 22, 25, 24,])\n",
    "mean=np.mean(model3)\n",
    "median=np.median(model3)\n",
    "mode=stats.mode(model3)\n",
    "cdispersion=np.ptp(model3)\n",
    "sd=np.std(model3)\n",
    "print(\" \")\n",
    "print(\"the average of given data \",mean)\n",
    "print(\"the median of data is \",median)\n",
    "print('the frequently coming value is ',mode[0])\n",
    "print(\"the range of fuel efficiency for each vehicle model 3 \",cdispersion)\n",
    "print(\"the variance of the fuel efficiency for each vehicle model 3\",sd)\n",
    "\n",
    "model4=np.array([18, 17, 19, 20, 21, 18, 19, 17, 20, 19])\n",
    "mean=np.mean(model4)\n",
    "median=np.median(model4)\n",
    "mode=stats.mode(model4)\n",
    "cdispersion=np.ptp(model4)\n",
    "sd=np.std(model4)\n",
    "print(\" \")\n",
    "print(\"the average of given data \",mean)\n",
    "print(\"the median of data is \",median)\n",
    "print('the frequently coming value is ',mode[0])\n",
    "print(\"the range of fuel efficiency for each vehicle model 4 \",cdispersion)\n",
    "print(\"the variance of the fuel efficiency for each vehicle model 4\",sd)\n",
    "\n",
    "model5=np.array([35, 36, 34, 35, 33, 34, 32, 33, 36, 34])\n",
    "mean=np.mean(model5)\n",
    "median=np.median(model5)\n",
    "mode=stats.mode(model5[0])\n",
    "cdispersion=np.ptp(model5)\n",
    "sd=np.std(model5)\n",
    "print(\" \")\n",
    "print(\"the average of given data \",mean)\n",
    "print(\"the median of data is \",median)\n",
    "print('the frequently coming value is ',mode[0])\n",
    "print(\"the range of fuel efficiency for each vehicle model 5 \",cdispersion)\n",
    "print(\"the variance of the fuel efficiency for each vehicle model 5\",sd)"
   ]
  },
  {
   "cell_type": "markdown",
   "metadata": {},
   "source": [
    "## question 11"
   ]
  },
  {
   "cell_type": "code",
   "execution_count": 13,
   "metadata": {},
   "outputs": [
    {
     "name": "stdout",
     "output_type": "stream",
     "text": [
      "a frequency distribution table for the ages of the employees 31    10\n",
      "35     9\n",
      "33     7\n",
      "39     7\n",
      "29     7\n",
      "36     7\n",
      "30     6\n",
      "38     6\n",
      "40     6\n",
      "32     5\n",
      "28     5\n",
      "37     5\n",
      "41     4\n",
      "43     3\n",
      "34     3\n",
      "44     3\n",
      "27     3\n",
      "42     2\n",
      "45     2\n",
      "Name: count, dtype: int64\n",
      "the mode (most common age) among the employees 31\n",
      "the median age of the employees 35.0\n",
      "the range of ages among the employees 18\n"
     ]
    }
   ],
   "source": [
    "ages=np.array([28, 32, 35, 40, 42, 28, 33, 38, 30, 41,\n",
    "37, 31, 34, 29, 36, 43, 39, 27, 35, 31,\n",
    "39, 45, 29, 33, 37, 40, 36, 29, 31, 38,\n",
    "35, 44, 32, 39, 36, 30, 33, 28, 41, 35,\n",
    "31, 37, 42, 29, 34, 40, 31, 33, 38, 36,\n",
    "39, 27, 35, 30, 43, 29, 32, 36, 31, 40,\n",
    "38, 44, 37, 33, 35, 41, 30, 31, 39, 28,\n",
    "45, 29, 33, 38, 34, 32, 35, 31, 40, 36,\n",
    "39, 27, 35, 30, 43, 29, 32, 36, 31, 40,\n",
    "38, 44, 37, 33, 35, 41, 30, 31, 39, 28\n",
    "])\n",
    "\n",
    "ages_series = pd.Series(ages)\n",
    "\n",
    "# Frequency Distribution\n",
    "freq_dist = ages_series.value_counts()\n",
    "mode=stats.mode(ages)\n",
    "median=np.median(ages)\n",
    "range=np.ptp(ages)\n",
    "\n",
    "print(\"a frequency distribution table for the ages of the employees\",freq_dist)\n",
    "print(\"the mode (most common age) among the employees\",mode[0])\n",
    "print(\"the median age of the employees\",median)\n",
    "print(\"the range of ages among the employees\",range)\n"
   ]
  },
  {
   "cell_type": "markdown",
   "metadata": {},
   "source": [
    "## question 12"
   ]
  },
  {
   "cell_type": "code",
   "execution_count": 14,
   "metadata": {},
   "outputs": [
    {
     "name": "stdout",
     "output_type": "stream",
     "text": [
      "a frequency distribution table for the purchase amounts 40    3\n",
      "65    3\n",
      "47    3\n",
      "52    3\n",
      "58    3\n",
      "49    3\n",
      "56    2\n",
      "42    2\n",
      "55    2\n",
      "48    2\n",
      "39    2\n",
      "62    2\n",
      "59    2\n",
      "45    2\n",
      "51    2\n",
      "41    2\n",
      "61    1\n",
      "73    1\n",
      "28    1\n",
      "35    1\n",
      "60    1\n",
      "38    1\n",
      "44    1\n",
      "57    1\n",
      "63    1\n",
      "36    1\n",
      "68    1\n",
      "43    1\n",
      "Name: count, dtype: int64\n",
      "s the mode (most common purchase amount) among the customers 40\n",
      "the median purchase amount among the customers 50.0\n",
      " the interquartile range of the purchase amounts 15.75\n"
     ]
    }
   ],
   "source": [
    "data=np.array([56, 40, 28, 73, 52, 61, 35, 40, 47, 65,\n",
    "52, 44, 38, 60, 56, 40, 36, 49, 68, 57,\n",
    "52, 63, 41, 48, 55, 42, 39, 58, 62, 49,\n",
    "59, 45, 47, 51, 65, 41, 48, 55, 42, 39,\n",
    "58, 62, 49, 59, 45, 47, 51, 65, 43, 58])\n",
    "s_data=pd.Series(data)\n",
    "freq_dist=s_data.value_counts()\n",
    "mode=stats.mode(data)\n",
    "median=np.median(data)\n",
    "iqr=s_data.quantile(0.75)-s_data.quantile(0.25)\n",
    "print(\"a frequency distribution table for the purchase amounts\",freq_dist)\n",
    "print(\"s the mode (most common purchase amount) among the customers\",mode[0])\n",
    "print(\"the median purchase amount among the customers\",median)\n",
    "print(\" the interquartile range of the purchase amounts\",iqr)"
   ]
  },
  {
   "cell_type": "markdown",
   "metadata": {},
   "source": [
    "## question 13"
   ]
  },
  {
   "cell_type": "code",
   "execution_count": 15,
   "metadata": {},
   "outputs": [
    {
     "name": "stdout",
     "output_type": "stream",
     "text": [
      "all are have only one item\n"
     ]
    },
    {
     "data": {
      "text/plain": [
       "(array([1., 0., 1., 0., 1., 2., 0., 0., 1., 1.]),\n",
       " array([10. , 13.5, 17. , 20.5, 24. , 27.5, 31. , 34.5, 38. , 41.5, 45. ]),\n",
       " <BarContainer object of 10 artists>)"
      ]
     },
     "execution_count": 15,
     "metadata": {},
     "output_type": "execute_result"
    },
    {
     "data": {
      "image/png": "[encoded data removed]",
      "text/plain": [
       "<Figure size 640x480 with 1 Axes>"
      ]
     },
     "metadata": {},
     "output_type": "display_data"
    },
    {
     "data": {
      "image/png": "[encoded data removed]",
      "text/plain": [
       "<Figure size 1400x400 with 1 Axes>"
      ]
     },
     "metadata": {},
     "output_type": "display_data"
    }
   ],
   "source": [
    "import matplotlib.pyplot as plt\n",
    "from collections import Counter\n",
    "Defect_Type=[\"A\",\"B\", \"C\", \"D\", \"E\", \"F\", \"G\"]\n",
    "Frequency=[30, 40, 20, 10, 45, 25, 30]\n",
    "sr=pd.Series(Defect_Type)\n",
    "item=[] \n",
    "for i in sr.value_counts():\n",
    "    if(i>1):\n",
    "        item.append(i)\n",
    "        print(item.max())\n",
    "else:\n",
    "    print(\"all are have only one item\") \n",
    "        \n",
    "    \n",
    "\n",
    "plt.Figure(figsize=(15,5))\n",
    "plt.bar(pd.Series(Defect_Type),pd.Series(Frequency))\n",
    "plt.figure(figsize=(14,4))\n",
    "plt.hist(pd.Series(Frequency),bins=10)"
   ]
  },
  {
   "cell_type": "markdown",
   "metadata": {},
   "source": [
    "## question 14"
   ]
  },
  {
   "cell_type": "code",
   "execution_count": 16,
   "metadata": {},
   "outputs": [
    {
     "name": "stdout",
     "output_type": "stream",
     "text": [
      "Counter({np.int64(4): 39, np.int64(3): 30, np.int64(5): 23, np.int64(2): 8})\n",
      "Mode: 4 (Frequency: 39)\n"
     ]
    },
    {
     "data": {
      "text/plain": [
       "Text(0.5, 0, 'Satisfaction Rating')"
      ]
     },
     "execution_count": 16,
     "metadata": {},
     "output_type": "execute_result"
    },
    {
     "data": {
      "image/png": "[encoded data removed]",
      "text/plain": [
       "<Figure size 1500x500 with 1 Axes>"
      ]
     },
     "metadata": {},
     "output_type": "display_data"
    },
    {
     "data": {
      "image/png": "[encoded data removed]",
      "text/plain": [
       "<Figure size 1000x500 with 1 Axes>"
      ]
     },
     "metadata": {},
     "output_type": "display_data"
    }
   ],
   "source": [
    "rating=np.array([ 4, 5, 3, 4, 4, 3, 2, 5, 4, 3,\n",
    "5, 4, 2, 3, 4, 5, 3, 4, 5, 3,\n",
    "4, 3, 2, 4, 5, 3, 4, 5, 4, 3,\n",
    "3, 4, 5, 2, 3, 4, 4, 3, 5, 4,\n",
    "3, 4, 5, 4, 2, 3, 4, 5, 3, 4,\n",
    "5, 4, 3, 4, 5, 3, 4, 5, 4, 3,\n",
    "3, 4, 5, 2, 3, 4, 4, 3, 5, 4,\n",
    "3, 4, 5, 4, 2, 3, 4, 5, 3, 4,\n",
    "5, 4, 3, 4, 5, 3, 4, 5, 4, 3,\n",
    "3, 4, 5, 2, 3, 4, 4, 3, 5, 4\n",
    "])\n",
    "plt.figure(figsize=(15,5))\n",
    "plt.hist(data,bins=90)\n",
    "counter = Counter(rating)\n",
    "print(counter)\n",
    "mode = stats.mode(rating)\n",
    "print(f\"Mode: {mode[0]} (Frequency: {mode[1]})\")\n",
    "\n",
    "\n",
    "plt.figure(figsize=(10, 5))\n",
    "plt.bar(counter.keys(), counter.values(), color='orange', edgecolor='black', width=0.6)\n",
    "plt.title('Frequency of Satisfaction Ratings')\n",
    "plt.xlabel('Satisfaction Rating')"
   ]
  },
  {
   "cell_type": "markdown",
   "metadata": {},
   "source": [
    "## question 15"
   ]
  },
  {
   "cell_type": "code",
   "execution_count": 17,
   "metadata": {},
   "outputs": [
    {
     "name": "stdout",
     "output_type": "stream",
     "text": [
      "the average monthly sales figure is 36.14\n"
     ]
    },
    {
     "data": {
      "text/plain": [
       "Text(0.5, 0, 'sales')"
      ]
     },
     "execution_count": 17,
     "metadata": {},
     "output_type": "execute_result"
    },
    {
     "data": {
      "image/png": "[encoded data removed]",
      "text/plain": [
       "<Figure size 1400x400 with 1 Axes>"
      ]
     },
     "metadata": {},
     "output_type": "display_data"
    },
    {
     "data": {
      "image/png": "[encoded data removed]",
      "text/plain": [
       "<Figure size 1400x400 with 1 Axes>"
      ]
     },
     "metadata": {},
     "output_type": "display_data"
    }
   ],
   "source": [
    "data=np.array([35, 28, 32, 45, 38, 29, 42, 30, 36, 41,\n",
    "47, 31, 39, 43, 37, 30, 34, 39, 28, 33,\n",
    "36, 40, 42, 29, 31, 45, 38, 33, 41, 35,\n",
    "37,34, 46, 30, 39, 43, 28, 32, 36, 29,\n",
    "31, 37, 40, 42, 33, 39, 28, 35, 38, 43])\n",
    "\n",
    "mean=np.mean(data)\n",
    "print(\"the average monthly sales figure is\",mean)\n",
    "count=Counter(data)\n",
    "plt.figure(figsize=(14,4))\n",
    "plt.hist(data,bins=10)\n",
    "plt.figure(figsize=(14,4))\n",
    "plt.bar(count.keys(),count.values(),color='red')\n",
    "plt.title('Frequency of monthaly sales')\n",
    "plt.xlabel('sales')"
   ]
  },
  {
   "cell_type": "markdown",
   "metadata": {},
   "source": [
    "## question 16"
   ]
  },
  {
   "cell_type": "code",
   "execution_count": 18,
   "metadata": {},
   "outputs": [
    {
     "name": "stdout",
     "output_type": "stream",
     "text": [
      "the median response time is 130.5\n"
     ]
    },
    {
     "data": {
      "text/plain": [
       "<BarContainer object of 24 artists>"
      ]
     },
     "execution_count": 18,
     "metadata": {},
     "output_type": "execute_result"
    },
    {
     "data": {
      "image/png": "[encoded data removed]",
      "text/plain": [
       "<Figure size 1400x400 with 1 Axes>"
      ]
     },
     "metadata": {},
     "output_type": "display_data"
    },
    {
     "data": {
      "image/png": "[encoded data removed]",
      "text/plain": [
       "<Figure size 1400x400 with 1 Axes>"
      ]
     },
     "metadata": {},
     "output_type": "display_data"
    }
   ],
   "source": [
    "data=np.array([125, 148, 137, 120, 135, 132, 145, 122, 130, 141,\n",
    "118, 125, 132, 136, 128, 123, 132, 138, 126, 129,\n",
    "136, 127, 130, 122, 125, 133, 140, 126, 133, 135,\n",
    "130, 134, 141, 119, 125, 131, 136, 128, 124, 132,\n",
    "136, 127, 130, 122, 125, 133, 140, 126, 133, 135,\n",
    "130, 134, 141, 119, 125, 131, 136, 128, 124, 132,\n",
    "136, 127, 130, 122, 125, 133, 140, 126, 133, 135,\n",
    "130, 134, 141, 119, 125, 131, 136, 128, 124, 132,\n",
    "136, 127, 130, 122, 125, 133, 140, 126, 133, 135,\n",
    "130, 134, 141, 119, 125, 131, 136, 128, 124, 132\n",
    "])\n",
    "median=np.median(data)\n",
    "c=Counter(data)\n",
    "print(\"the median response time is\",median)\n",
    "plt.figure(figsize=(14,4))\n",
    "plt.hist(data,bins=12,color='green')\n",
    "plt.figure(figsize=(14,4))\n",
    "plt.bar(c.keys(),c.values())"
   ]
  },
  {
   "cell_type": "code",
   "execution_count": 19,
   "metadata": {},
   "outputs": [
    {
     "name": "stdout",
     "output_type": "stream",
     "text": [
      "the average sales figure for each region1 is  40.4\n",
      "the range of sales figures in each region1 is  10\n",
      " \n",
      "the average sales figure for each region2 is  32.5\n",
      "the range of sales figures in each region2 is  9\n",
      " \n",
      "the average sales figure for each region3 is  41.0\n",
      "the range of sales figures in each region3 is  8\n",
      " \n"
     ]
    },
    {
     "data": {
      "image/png": "[encoded data removed]",
      "text/plain": [
       "<Figure size 1400x400 with 1 Axes>"
      ]
     },
     "metadata": {},
     "output_type": "display_data"
    },
    {
     "data": {
      "image/png": "[encoded data removed]",
      "text/plain": [
       "<Figure size 1400x400 with 1 Axes>"
      ]
     },
     "metadata": {},
     "output_type": "display_data"
    },
    {
     "data": {
      "image/png": "[encoded data removed]",
      "text/plain": [
       "<Figure size 1400x400 with 1 Axes>"
      ]
     },
     "metadata": {},
     "output_type": "display_data"
    }
   ],
   "source": [
    "r1=np.array([45, 35, 40, 38, 42, 37, 39, 43, 44, 41,])\n",
    "c=Counter(r1)\n",
    "range=np.ptp(r1)\n",
    "plt.figure(figsize=(14,4))\n",
    "plt.bar(c.keys(),c.values(),color='gray',width=0.5)\n",
    "plt.title(\"thisis for region 1\")\n",
    "mean=np.mean(r1)\n",
    "print(\"the average sales figure for each region1 is \",mean)\n",
    "print(\"the range of sales figures in each region1 is \",range)\n",
    "print(\" \")\n",
    "r2=np.array([32, 28, 30, 34, 33, 35, 31, 29, 36, 37])\n",
    "c=Counter(r2)\n",
    "range=np.ptp(r2)\n",
    "plt.figure(figsize=(14,4))\n",
    "plt.bar(c.keys(),c.values(),color='gray',width=0.5)\n",
    "plt.title(\"thisis for region 2\")\n",
    "mean=np.mean(r2)\n",
    "print(\"the average sales figure for each region2 is \",mean)\n",
    "print(\"the range of sales figures in each region2 is \",range)\n",
    "print(\" \")\n",
    "r3=np.array([40, 39, 42, 41, 38, 43, 45, 44, 41, 37])\n",
    "c=Counter(r3)\n",
    "range=np.ptp(r3)\n",
    "plt.figure(figsize=(14,4))\n",
    "plt.bar(c.keys(),c.values(),color='gray',width=0.5)\n",
    "plt.title(\"thisis for region 3\")\n",
    "mean=np.mean(r3)\n",
    "print(\"the average sales figure for each region3 is \",mean)\n",
    "print(\"the range of sales figures in each region3 is \",range)\n",
    "print(\" \")"
   ]
  },
  {
   "cell_type": "markdown",
   "metadata": {},
   "source": [
    "## Skewness and Kurtosis"
   ]
  },
  {
   "cell_type": "code",
   "execution_count": 20,
   "metadata": {},
   "outputs": [
    {
     "name": "stdout",
     "output_type": "stream",
     "text": [
      "skewness of data is  0.042780094592838144\n",
      "kurtosis of data is  -1.3610648351250891\n"
     ]
    }
   ],
   "source": [
    "\n",
    "data=np.array([2.5, 1.3, -0.8, -1.9, 2.1, 0.5, -1.2, 1.8, -0.5, 2.3,\n",
    "-0.7, 1.2, -1.5, -0.3, 2.6, 1.1, -1.7, 0.9, -1.4, 0.3,\n",
    "1.9, -1.1, -0.4, 2.2, -0.9, 1.6, -0.6, -1.3, 2.4, 0.7,\n",
    "-1.8, 1.5, -0.2, -2.1, 2.8, 0.8, -1.6, 1.4, -0.1, 2.5,\n",
    "-1.0, 1.7, -0.9, -2.0, 2.7, 0.6, -1.4, 1.1, -0.3, 2.0\n",
    "])\n",
    "skewness=stats.skew(data)\n",
    "kurtosis=stats.kurtosis(data)\n",
    "print(\"skewness of data is \",skewness)\n",
    "print(\"kurtosis of data is \",kurtosis)\n",
    "#skwness is positive so it is right skewed but it nearly symmetrical\n",
    "#kurtosis is negative so it is platykurtic"
   ]
  },
  {
   "cell_type": "code",
   "execution_count": 21,
   "metadata": {},
   "outputs": [
    {
     "name": "stdout",
     "output_type": "stream",
     "text": [
      "skewness of data is  0.22050966381635612\n",
      "kurtosis of data is  -0.9452664315355492\n"
     ]
    }
   ],
   "source": [
    "\n",
    "data=np.array([2.5, 4.8, 3.2, 2.1, 4.5, 2.9, 2.3, 3.1, 4.2, 3.9,\n",
    "2.8, 4.1, 2.6, 2.4, 4.7, 3.3, 2.7, 3.0, 4.3, 3.7,\n",
    "2.2, 3.6, 4.0, 2.7, 3.8, 3.5, 3.2, 4.4, 2.0, 3.4,\n",
    "3.1, 2.9, 4.6, 3.3, 2.5, 4.9, 2.8, 3.0, 4.2, 3.9,\n",
    "2.8, 4.1, 2.6, 2.4, 4.7, 3.3, 2.7, 3.0, 4.3, 3.7,\n",
    "2.2, 3.6, 4.0, 2.7, 3.8, 3.5, 3.2, 4.4,\n",
    "2.0, 3.4,\n",
    "3.1, 2.9, 4.6, 3.3, 2.5, 4.9, 2.8, 3.0, 4.2, 3.9,\n",
    "2.8, 4.1, 2.6, 2.4, 4.7, 3.3, 2.7, 3.0, 4.3, 3.7,\n",
    "2.2, 3.6, 4.0, 2.7, 3.8, 3.5, 3.2, 4.4, 2.0, 3.4,\n",
    "3.1, 2.9, 4.6, 3.3, 2.5, 4.9\n",
    "])\n",
    "skewness=stats.skew(data)\n",
    "kurtosis=stats.kurtosis(data)\n",
    "print(\"skewness of data is \",skewness)\n",
    "print(\"kurtosis of data is \",kurtosis)\n",
    "#skwness is positive so it is right skewed but it nearly symmetrical\n",
    "#kurtosis is negative so it is platykurtic"
   ]
  },
  {
   "cell_type": "code",
   "execution_count": 22,
   "metadata": {},
   "outputs": [
    {
     "name": "stdout",
     "output_type": "stream",
     "text": [
      "skewness of data is  -0.20773281879682218\n",
      "kurtosis of data is  -0.767917404014467\n"
     ]
    }
   ],
   "source": [
    "data=np.array([ 4, 5, 3, 4, 4, 3, 2, 5, 4, 3,\n",
    "5, 4, 2, 3, 4, 5, 3, 4, 5, 3,\n",
    "4, 3, 2, 4, 5, 3, 4, 5, 4, 3,\n",
    "3, 4, 5, 2, 3, 4, 4, 3, 5, 4,\n",
    "3, 4, 5, 4, 2, 3, 4, 5, 3, 4,\n",
    "5, 4, 3, 4, 5, 3, 4, 5, 4, 3,\n",
    "3, 4, 5, 2, 3, 4, 4, 3, 5, 4,\n",
    "3, 4, 5, 4, 2, 3, 4, 5, 3, 4,\n",
    "5, 4, 3, 4, 5, 3, 4, 5, 4, 3,\n",
    "3, 4, 5, 2, 3, 4, 4, 3, 5, 4\n",
    "\n",
    "])\n",
    "skewness=stats.skew(data)\n",
    "kurtosis=stats.kurtosis(data)\n",
    "print(\"skewness of data is \",skewness)\n",
    "print(\"kurtosis of data is \",kurtosis)\n",
    "#skwness is negative so it is left skewed but it nearly symmetrical\n",
    "#kurtosis is negative so it is platykurtic"
   ]
  },
  {
   "cell_type": "code",
   "execution_count": 23,
   "metadata": {},
   "outputs": [
    {
     "name": "stdout",
     "output_type": "stream",
     "text": [
      "skewness of data is  0.20606717698636337\n",
      "kurtosis of data is  -1.045680283003699\n"
     ]
    }
   ],
   "source": [
    "data=np.array([ 280, 350, 310, 270, 390, 320, 290, 340, 310, 380,\n",
    "270, 350, 300, 330, 370, 310, 280, 320, 350, 290,\n",
    "270, 350, 300, 330, 370, 310, 280, 320, 350, 290,\n",
    "270, 350, 300, 330, 370, 310, 280, 320, 350, 290,\n",
    "270, 350, 300, 330, 370, 310, 280, 320, 350, 290,\n",
    "270, 350, 300, 330, 370, 310, 280, 320, 350, 290,\n",
    "270, 350, 300, 330, 370, 310, 280, 320, 350, 290,\n",
    "270, 350, 300, 330, 370, 310, 280, 320, 350, 290,\n",
    "270, 350, 300, 330, 370, 310, 280, 320, 350, 290,\n",
    "270, 350, 300, 330, 370, 310, 280, 320, 350, 290\n",
    "\n",
    "])\n",
    "skewness=stats.skew(data)\n",
    "kurtosis=stats.kurtosis(data)\n",
    "print(\"skewness of data is \",skewness)\n",
    "print(\"kurtosis of data is \",kurtosis)\n",
    "#skwness is positive so it is right skewed \n",
    "#kurtosis is negative so it is platykurtic"
   ]
  },
  {
   "cell_type": "code",
   "execution_count": 24,
   "metadata": {},
   "outputs": [
    {
     "name": "stdout",
     "output_type": "stream",
     "text": [
      "skewness of data is  -0.32996659307494663\n",
      "kurtosis of data is  -0.8969791791415274\n"
     ]
    }
   ],
   "source": [
    "data=np.array([ 12, 18, 15, 22, 20, 14, 16, 21, 19, 17,\n",
    "22, 19, 13, 16, 21, 22, 17, 19, 22, 18,\n",
    "14, 20, 19, 17, 22, 18, 15, 21, 20, 16,\n",
    "12, 18, 15, 22, 20, 14, 16, 21, 19, 17,\n",
    "22, 19, 13, 16, 21, 22, 17, 19, 22, 18,\n",
    "14, 20, 19, 17, 22, 18, 15, 21, 20, 16,\n",
    "12, 18, 15, 22, 20, 14, 16, 21, 19, 17,\n",
    "22, 19, 13, 16, 21, 22, 17, 19, 22, 18,\n",
    "14, 20, 19, 17, 22, 18, 15, 21, 20, 16,\n",
    "12, 18, 15, 22, 20, 14, 16, 21, 19, 17\n",
    "])\n",
    "skewness=stats.skew(data)\n",
    "kurtosis=stats.kurtosis(data)\n",
    "print(\"skewness of data is \",skewness)\n",
    "print(\"kurtosis of data is \",kurtosis)\n",
    "#skwness is negative so it is left skewed \n",
    "#kurtosis is negative so it is platykurtic"
   ]
  },
  {
   "cell_type": "markdown",
   "metadata": {},
   "source": [
    "##  Percentile and Quartiles\n"
   ]
  },
  {
   "cell_type": "code",
   "execution_count": 25,
   "metadata": {},
   "outputs": [
    {
     "name": "stdout",
     "output_type": "stream",
     "text": [
      "first quartile is  128.75\n",
      "median is  252.5\n",
      "third quartile is  376.25\n",
      "10 th percentile is  74.7\n",
      "90th percentile is  450.50000000000006\n"
     ]
    }
   ],
   "source": [
    "data=np.array([ 40, 45, 50, 55, 60, 62, 65, 68, 70, 72,\n",
    "75, 78, 80, 82, 85, 88, 90, 92, 95, 100,\n",
    "105, 110, 115, 120, 125, 130, 135, 140, 145, 150,\n",
    "155, 160, 165, 170, 175, 180, 185, 190, 195, 200,\n",
    "205, 210, 215, 220, 225, 230, 235, 240, 245, 250,\n",
    "255, 260, 265, 270, 275, 280, 285, 290, 295, 300,\n",
    "305, 310, 315, 320, 325, 330, 335, 340, 345, 350,\n",
    "355, 360, 365, 370, 375, 380, 385, 390, 395, 400,\n",
    "405, 410, 415, 420, 425, 430, 435, 440, 445, 450,\n",
    "455, 460, 465, 470, 475, 480, 485, 490, 495, 500])\n",
    "q1=np.percentile(data,25)\n",
    "median=np.median(data)\n",
    "q3=np.percentile(data,75)\n",
    "tenth_percentile=np.percentile(data,10)\n",
    "percentile_90=np.percentile(data,90)\n",
    "print(\"first quartile is \",q1)\n",
    "print(\"median is \",median)\n",
    "print(\"third quartile is \",q3)\n",
    "print(\"10 th percentile is \",tenth_percentile)\n",
    "print(\"90th percentile is \",percentile_90)  \n",
    "#average or median  salarey is 128.75\n",
    "#50% salary of employee is between 128.75 and 376.25\n",
    "#80% salary of employee is between 74.7 and 450.5\n"
   ]
  },
  {
   "cell_type": "code",
   "execution_count": 26,
   "metadata": {},
   "outputs": [
    {
     "name": "stdout",
     "output_type": "stream",
     "text": [
      "first quartile is  143.75\n",
      "median is  267.5\n",
      "third quartile is  391.25\n",
      "15 th percentile is  94.55\n",
      "50th percentile is  267.5\n",
      "85th percentile is  440.74999999999994\n"
     ]
    }
   ],
   "source": [
    "data=np.array([ 55, 60, 62, 65, 68, 70, 72, 75, 78, 80,\n",
    "82, 85, 88, 90, 92, 95, 100, 105, 110, 115,\n",
    "120, 125, 130, 135, 140, 145, 150, 155, 160, 165,\n",
    "170, 175, 180, 185, 190, 195, 200, 205, 210, 215,\n",
    "220, 225, 230, 235, 240, 245, 250, 255, 260, 265,\n",
    "270, 275, 280, 285, 290, 295, 300, 305, 310, 315,\n",
    "320, 325, 330, 335, 340, 345, 350, 355, 360, 365,\n",
    "370, 375,\n",
    "380, 385, 390, 395, 400, 405, 410, 415,\n",
    "420, 425, 430, 435, 440, 445, 450, 455, 460, 465,\n",
    "470, 475, 480, 485, 490, 495, 500, 505, 510, 515\n",
    "])\n",
    "q1=np.percentile(data,25)\n",
    "median=np.median(data)\n",
    "q3=np.percentile(data,75)\n",
    "percentile_15=np.percentile(data,15)\n",
    "percentile_50=np.percentile(data,50)\n",
    "percentile_85=np.percentile(data,85)\n",
    "print(\"first quartile is \",q1)\n",
    "print(\"median is \",median)\n",
    "print(\"third quartile is \",q3)\n",
    "print(\"15 th percentile is \",percentile_15)\n",
    "print(\"50th percentile is \",percentile_50)\n",
    "print(\"85th percentile is \",percentile_85)  \n",
    "#average or median  patient is 267.5\n",
    "#50% weight of patient is between 143.75 and 391.25\n",
    "#70% weight of patient is between 94.25 and 440.74"
   ]
  },
  {
   "cell_type": "code",
   "execution_count": 27,
   "metadata": {},
   "outputs": [
    {
     "name": "stdout",
     "output_type": "stream",
     "text": [
      "first quartile is  156.25\n",
      "median is  292.5\n",
      "third quartile is  428.75\n",
      "20 th percentile is  129.0\n",
      "40th percentile is  238.0\n",
      "80th percentile is  456.0\n"
     ]
    }
   ],
   "source": [
    "data=np.array([ 20, 25, 30, 35, 40, 45, 50, 55, 60, 65,\n",
    "70, 75, 80, 85, 90, 95, 100, 105, 110, 115,\n",
    "120, 125, 130, 135, 140, 145, 150, 155, 160, 165,\n",
    "170, 175, 180, 185, 190, 195, 200, 205, 210, 215,\n",
    "220, 225, 230, 235, 240, 245, 250, 255, 260, 265,\n",
    "270, 275, 280, 285, 290, 295, 300, 305, 310, 315,\n",
    "320, 325, 330, 335, 340, 345, 350, 355, 360, 365,\n",
    "370, 375, 380, 385, 390, 395, 400, 405, 410, 415,\n",
    "420, 425, 430, 435, 440, 445, 450, 455, 460, 465,\n",
    "470, 475, 480, 485, 490, 495, 500, 505, 510, 515,\n",
    "520, 525, 530, 535, 540, 545, 550, 555, 560, 565\n",
    "])\n",
    "q1=np.percentile(data,25)\n",
    "median=np.median(data)\n",
    "q3=np.percentile(data,75)\n",
    "percentile_20=np.percentile(data,20)\n",
    "percentile_40=np.percentile(data,40)\n",
    "percentile_80=np.percentile(data,80)\n",
    "print(\"first quartile is \",q1)\n",
    "print(\"median is \",median)\n",
    "print(\"third quartile is \",q3)\n",
    "print(\"20 th percentile is \",percentile_20)\n",
    "print(\"40th percentile is \",percentile_40)\n",
    "print(\"80th percentile is \",percentile_80)  \n",
    "#average or median  patient is 267.5\n",
    "#20% of the customers spent > $456.00\n",
    "#80% of the customers spent ≤ $456.00"
   ]
  },
  {
   "cell_type": "code",
   "execution_count": 28,
   "metadata": {},
   "outputs": [
    {
     "name": "stdout",
     "output_type": "stream",
     "text": [
      "first quartile is  163.75\n",
      "median is  312.5\n",
      "third quartile is  461.25\n",
      "30 th percentile is  193.49999999999997\n",
      "50th percentile is  312.5\n",
      "70th percentile is  431.5\n"
     ]
    }
   ],
   "source": [
    "data=np.array([ 15, 20, 25, 30, 35, 40, 45, 50, 55, 60,\n",
    "65, 70, 75, 80, 85, 90, 95, 100, 105, 110,\n",
    "115, 120, 125, 130, 135, 140, 145, 150, 155, 160,\n",
    "165, 170, 175, 180, 185, 190, 195, 200, 205, 210,\n",
    "215, 220, 225, 230, 235, 240, 245, 250, 255, 260,\n",
    "265, 270, 275, 280, 285, 290, 295, 300, 305, 310,\n",
    "315, 320, 325, 330, 335, 340, 345, 350, 355, 360,\n",
    "365, 370, 375, 380, 385, 390, 395, 400, 405, 410,\n",
    "415, 420, 425, 430, 435, 440, 445, 450, 455, 460,\n",
    "465, 470, 475, 480, 485, 490, 495, 500, 505, 510,\n",
    "515, 520, 525, 530, 535, 540, 545, 550, 555, 560,\n",
    "565, 570, 575, 580, 585, 590, 595, 600, 605, 610\n",
    "])\n",
    "q1=np.percentile(data,25)\n",
    "median=np.median(data)\n",
    "q3=np.percentile(data,75)\n",
    "percentile_30=np.percentile(data,30)\n",
    "percentile_50=np.percentile(data,50)\n",
    "percentile_70=np.percentile(data,70)\n",
    "print(\"first quartile is \",q1)\n",
    "print(\"median is \",median)\n",
    "print(\"third quartile is \",q3)\n",
    "print(\"30 th percentile is \",percentile_30)\n",
    "print(\"50th percentile is \",percentile_50)\n",
    "print(\"70th percentile is \",percentile_70)  \n",
    "#average or median  patient is 312.5\n",
    "#30% of the customers spent > 431.5\n",
    "#70% of the customers spend<431.5"
   ]
  },
  {
   "cell_type": "code",
   "execution_count": 29,
   "metadata": {},
   "outputs": [
    {
     "name": "stdout",
     "output_type": "stream",
     "text": [
      "first quartile is  0.4\n",
      "median is  0.7\n",
      "third quartile is  0.9\n"
     ]
    }
   ],
   "source": [
    "data=np.array([0.5, 1.0, 0.2, 0.7, 0.3, 0.9, 1.2, 0.6, 0.4, 1.1,\n",
    "0.8, 0.5, 0.3, 0.6, 1.0, 0.4, 0.5, 0.7, 0.9, 1.3,\n",
    "0.8, 0.6, 0.4, 0.7, 0.9, 0.5, 0.2, 1.0, 0.8, 0.3,\n",
    "0.6, 0.4, 0.7, 0.9, 1.2, 0.8, 0.3, 0.6, 0.5, 0.4,\n",
    "0.7, 0.9, 1.1, 0.3, 1.4, 0,9, 0.6, 0.2, 1.5, 1.0,\n",
    "0.6, 0.4, 0.7, 1.0, 0.8, 0.3, 0.5, 0.8, 0.6, 0.3, 0.9,\n",
    "0.4, 0.7, 0.9, 1.0, 0.8, 0.3, 0.5, 0.6, 0.4, 0.7,\n",
    "0.9, 1.1, 0.8, 0.3, 0.5, 0.6, 0.4, 0.7, 0.9, 1.0,\n",
    "0.8, 0.3, 0.5, 0.6, 0.4, 0.7, 0.9, 1.1, 0.8, 0.3,\n",
    "0.5, 0.6, 0.4, 0.7, 0.9, 1.0, 0.8, 0.3, 0.5, 0.6,\n",
    "0.4, 0.7, 0.9, 1.1, 0.8, 0.3, 0.5, 0.6, 0.4, 0.7,\n",
    "0.9, 1.0, 0.8, 0.3, 0.5, 0.6, 0.4, 0.7, 0.9, 1.1\n",
    "])\n",
    "q1=np.percentile(data,25)\n",
    "q3=np.percentile(data,75)\n",
    "median=np.median(data) \n",
    "print(\"first quartile is \",q1)  \n",
    "print(\"median is \",median)\n",
    "print(\"third quartile is \",q3)  \n",
    "#average of data and median 0.7\n",
    "#value of 25% of the data is less than 0.4\n",
    "#value of 75% of the data is greater than 0.4\n"
   ]
  },
  {
   "cell_type": "markdown",
   "metadata": {},
   "source": [
    "## correlation and covarience"
   ]
  },
  {
   "cell_type": "code",
   "execution_count": 27,
   "metadata": {},
   "outputs": [
    {
     "name": "stdout",
     "output_type": "stream",
     "text": [
      "Correlation Coefficient: 0.999210310036648\n"
     ]
    }
   ],
   "source": [
    "import numpy as np\n",
    "from scipy.stats import pearsonr\n",
    "\n",
    "\n",
    "advertising_expenditure = np.array([10, 12, 15, 18, 20, 22, 25, 28, 30, 32, 35, 38])\n",
    "revenue = np.array([50, 55, 60, 65, 70, 75, 80, 85, 90, 95, 100, 105])\n",
    "\n",
    "correlation_coefficient = pearsonr(advertising_expenditure, revenue)\n",
    "\n",
    "print(\"Correlation Coefficient:\", correlation_coefficient[0])\n"
   ]
  },
  {
   "cell_type": "code",
   "execution_count": 28,
   "metadata": {},
   "outputs": [
    {
     "name": "stdout",
     "output_type": "stream",
     "text": [
      "Covariance between Company A and Company B stock prices: 97.52631578947368\n"
     ]
    }
   ],
   "source": [
    "import numpy as np\n",
    "\n",
    "\n",
    "a = np.array([45, 47, 48, 50, 52, 53, 55, 56, 58, 60, 62, 64, 65, 67, 69, 70, 72, 74, 76, 77])\n",
    "b = np.array([52, 54, 55, 57, 59, 60, 61, 62, 64, 66, 67, 69, 71, 73, 74, 76, 78, 80, 82, 83])\n",
    "\n",
    "# Calculate covariance\n",
    "covariance = np.cov(a, b)[0][1]\n",
    "\n",
    "# Display result\n",
    "print(\"Covariance between Company A and Company B stock prices:\", covariance)\n"
   ]
  },
  {
   "cell_type": "code",
   "execution_count": 29,
   "metadata": {},
   "outputs": [
    {
     "name": "stdout",
     "output_type": "stream",
     "text": [
      "Correlation Coefficient: 0.9772950830186733\n"
     ]
    }
   ],
   "source": [
    "import numpy as np\n",
    "from scipy.stats import pearsonr\n",
    "\n",
    "studying = np.array([10, 12, 15, 18, 20, 22, 25, 28, 30, 32, 35, 38, 40, 42, 45, 48, 50, 52, 55, 58, 60, 62, 65, 68, 70, 72, 75, 78, 80, 82])\n",
    "scores = np.array([60, 65, 70, 75, 80, 82, 85, 88, 90, 92, 93, 95, 96, 97, 98, 99, 100, 102, 105, 106, 107, 108, 110, 112, 114, 115, 116, 118, 120, 122])\n",
    "\n",
    "correlation_coefficient= pearsonr(studying, scores)\n",
    "\n",
    "print(\"Correlation Coefficient:\", correlation_coefficient[0])\n"
   ]
  },
  {
   "cell_type": "markdown",
   "metadata": {},
   "source": [
    "## discrete and continuous random variable"
   ]
  },
  {
   "cell_type": "code",
   "execution_count": 30,
   "metadata": {},
   "outputs": [
    {
     "data": {
      "text/plain": [
       "np.float64(0.0002909031105753001)"
      ]
     },
     "execution_count": 30,
     "metadata": {},
     "output_type": "execute_result"
    }
   ],
   "source": [
    "import scipy.stats as stats\n",
    "\n",
    "n=100\n",
    "p=1/6\n",
    "k=5\n",
    "probability=stats.binom.pmf(k,n,p)\n",
    "probability"
   ]
  },
  {
   "cell_type": "code",
   "execution_count": 2,
   "metadata": {},
   "outputs": [
    {
     "name": "stdout",
     "output_type": "stream",
     "text": [
      "The probability of drawing exactly two hearts in five cards is: 0.2743\n"
     ]
    }
   ],
   "source": [
    "import scipy.stats as stats\n",
    "\n",
    "\n",
    "N = 52\n",
    "K = 13\n",
    "n = 5\n",
    "k = 2\n",
    "\n",
    "# Hypergeometric Distribution\n",
    "prob = stats.hypergeom.pmf(k, N, K, n)\n",
    "print(f\"The probability of drawing exactly two hearts in five cards is: {prob:.4f}\")\n"
   ]
  },
  {
   "cell_type": "code",
   "execution_count": 5,
   "metadata": {},
   "outputs": [
    {
     "data": {
      "text/plain": [
       "np.float64(0.000415802001953125)"
      ]
     },
     "execution_count": 5,
     "metadata": {},
     "output_type": "execute_result"
    }
   ],
   "source": [
    "\n",
    "from scipy.stats import binom\n",
    "\n",
    "p=1/4\n",
    "n=10\n",
    "P_X_at_least_8_scipy = binom.sf(7, n, p)  # P(X >= 8) = 1 - P(X ≤ 7)\n",
    "P_X_at_least_8_scipy"
   ]
  },
  {
   "cell_type": "code",
   "execution_count": 6,
   "metadata": {},
   "outputs": [
    {
     "name": "stdout",
     "output_type": "stream",
     "text": [
      "The probability of drawing exactly two hearts in five cards is: 0.0333\n"
     ]
    }
   ],
   "source": [
    "K=20\n",
    "N=60\n",
    "n=3\n",
    "k=3\n",
    "prob = stats.hypergeom.pmf(k, N, K, n)\n",
    "print(f\"The probability of drawing exactly two hearts in five cards is: {prob:.4f}\")"
   ]
  },
  {
   "cell_type": "code",
   "execution_count": 7,
   "metadata": {},
   "outputs": [
    {
     "name": "stdout",
     "output_type": "stream",
     "text": [
      "0.2668279319999998\n"
     ]
    }
   ],
   "source": [
    "p=0.3\n",
    "n=10    \n",
    "k=3\n",
    "P_X_3 = binom.pmf(k, n, p)\n",
    "print(P_X_3)"
   ]
  },
  {
   "cell_type": "code",
   "execution_count": 9,
   "metadata": {},
   "outputs": [
    {
     "name": "stdout",
     "output_type": "stream",
     "text": [
      "0.06680720126885809\n"
     ]
    }
   ],
   "source": [
    "from scipy.stats import norm\n",
    "\n",
    "mu = 165  \n",
    "sd = 10  \n",
    "x = 180  \n",
    "\n",
    "prob = 1 - norm.cdf(x, mu, sd)\n",
    "print(prob)"
   ]
  },
  {
   "cell_type": "code",
   "execution_count": 10,
   "metadata": {},
   "outputs": [
    {
     "name": "stdout",
     "output_type": "stream",
     "text": [
      "0.4511883639059735\n"
     ]
    }
   ],
   "source": [
    "from scipy.stats import expon\n",
    "\n",
    "mu = 5  \n",
    "x = 3  \n",
    "lambda_ = 1 / mu  \n",
    "\n",
    "\n",
    "P_X_less_3 = expon.cdf(x, scale=mu)\n",
    "print(P_X_less_3)\n"
   ]
  },
  {
   "cell_type": "code",
   "execution_count": 11,
   "metadata": {},
   "outputs": [
    {
     "name": "stdout",
     "output_type": "stream",
     "text": [
      "0.6826894921370859\n"
     ]
    }
   ],
   "source": [
    "from scipy.stats import norm\n",
    "\n",
    "mean = 1000  \n",
    "sd = 100  \n",
    "x1, x2 = 900, 1100 \n",
    "\n",
    "prob = norm.cdf(x2, mean, sd) - norm.cdf(x1, mean, sd)\n",
    "print(prob)\n"
   ]
  },
  {
   "cell_type": "code",
   "execution_count": 12,
   "metadata": {},
   "outputs": [
    {
     "name": "stdout",
     "output_type": "stream",
     "text": [
      "0.19999999999999996\n"
     ]
    }
   ],
   "source": [
    "from scipy.stats import uniform\n",
    "\n",
    "a, b = 100, 200  \n",
    "x1, x2 = 150, 170  \n",
    "\n",
    "\n",
    "prob= uniform.cdf(x2, a, b-a) - uniform.cdf(x1, a, b-a)\n",
    "print(prob)\n"
   ]
  },
  {
   "cell_type": "code",
   "execution_count": 13,
   "metadata": {},
   "outputs": [
    {
     "name": "stdout",
     "output_type": "stream",
     "text": [
      "0.5276334472589853\n"
     ]
    }
   ],
   "source": [
    "from scipy.stats import expon\n",
    "\n",
    "mu = 20  \n",
    "x = 15   \n",
    "lambda_ = 1 / mu  \n",
    "\n",
    "prob = expon.cdf(x, scale=mu)\n",
    "print(prob)\n"
   ]
  },
  {
   "cell_type": "code",
   "execution_count": 14,
   "metadata": {},
   "outputs": [
    {
     "name": "stdout",
     "output_type": "stream",
     "text": [
      "0.18044704431548356\n"
     ]
    }
   ],
   "source": [
    "from scipy.stats import poisson\n",
    "\n",
    "lambda_ = 2  \n",
    "x = 3        \n",
    "\n",
    "prob = poisson.pmf(x, lambda_)\n",
    "print(prob)\n"
   ]
  },
  {
   "cell_type": "code",
   "execution_count": 15,
   "metadata": {},
   "outputs": [
    {
     "name": "stdout",
     "output_type": "stream",
     "text": [
      "0.2668279319999998\n"
     ]
    }
   ],
   "source": [
    "from scipy.stats import binom\n",
    "\n",
    "n = 10 \n",
    "p = 0.3 \n",
    "x = 3    \n",
    "\n",
    "prob = binom.pmf(x, n, p)\n",
    "print(prob)\n"
   ]
  },
  {
   "cell_type": "code",
   "execution_count": 16,
   "metadata": {},
   "outputs": [
    {
     "name": "stdout",
     "output_type": "stream",
     "text": [
      "0.42129629629629617\n"
     ]
    }
   ],
   "source": [
    "# Probability of not rolling a 6 in a single roll\n",
    "p_no_6 = 5 / 6\n",
    "\n",
    "# Probability of not rolling any 6s in 3 rolls\n",
    "P_no_6_in_3_rolls = p_no_6**3\n",
    "\n",
    "# Probability of getting at least one 6\n",
    "P_at_least_one_6 = 1 - P_no_6_in_3_rolls\n",
    "print(P_at_least_one_6)\n"
   ]
  },
  {
   "cell_type": "code",
   "execution_count": 18,
   "metadata": {},
   "outputs": [
    {
     "name": "stdout",
     "output_type": "stream",
     "text": [
      "0.6826894921370859\n"
     ]
    }
   ],
   "source": [
    "from scipy.stats import norm\n",
    "\n",
    "m = 150  \n",
    "sd = 10 \n",
    "x1, x2 = 140, 160  \n",
    "\n",
    "prob= norm.cdf(x2, m, sd) - norm.cdf(x1, m, sd)\n",
    "print(prob)\n"
   ]
  },
  {
   "cell_type": "code",
   "execution_count": 19,
   "metadata": {},
   "outputs": [
    {
     "name": "stdout",
     "output_type": "stream",
     "text": [
      "0.4065696597405991\n"
     ]
    }
   ],
   "source": [
    "from scipy.stats import expon\n",
    "\n",
    "mu = 1000  \n",
    "x = 900    \n",
    "lambda_ = 1 / mu  \n",
    "\n",
    "prob = expon.sf(x, scale=mu)\n",
    "print(prob)\n"
   ]
  },
  {
   "cell_type": "code",
   "execution_count": 20,
   "metadata": {},
   "outputs": [
    {
     "name": "stdout",
     "output_type": "stream",
     "text": [
      "95% Confidence Interval: (168.41, 171.59)\n"
     ]
    }
   ],
   "source": [
    "from scipy.stats import t\n",
    "import math\n",
    "\n",
    "# Given data\n",
    "x_bar = 170  # Sample mean\n",
    "s = 8        # Sample standard deviation\n",
    "n = 100      # Sample size\n",
    "confidence_level = 0.95\n",
    "\n",
    "# Degrees of freedom\n",
    "df = n - 1\n",
    "\n",
    "# t-value for 95% confidence level\n",
    "alpha = 1 - confidence_level\n",
    "t_value = t.ppf(1 - alpha/2, df)\n",
    "\n",
    "# Standard error\n",
    "SE = s / math.sqrt(n)\n",
    "\n",
    "# Confidence interval\n",
    "CI_lower = x_bar - t_value * SE\n",
    "CI_upper = x_bar + t_value * SE\n",
    "\n",
    "print(f\"95% Confidence Interval: ({CI_lower:.2f}, {CI_upper:.2f})\")\n"
   ]
  },
  {
   "cell_type": "code",
   "execution_count": 22,
   "metadata": {},
   "outputs": [
    {
     "name": "stdout",
     "output_type": "stream",
     "text": [
      "90% Confidence Interval: (0.6047, 0.6753)\n"
     ]
    }
   ],
   "source": [
    "from scipy.stats import norm\n",
    "import math\n",
    "\n",
    "# Given data\n",
    "x = 320      # Number of successes\n",
    "n = 500      # Sample size\n",
    "confidence_level = 0.90\n",
    "\n",
    "# Sample proportion\n",
    "p_hat = x / n\n",
    "\n",
    "# Z-value for 90% confidence level\n",
    "alpha = 1 - confidence_level\n",
    "z_value = norm.ppf(1 - alpha/2)\n",
    "\n",
    "# Standard error\n",
    "SE = math.sqrt((p_hat * (1 - p_hat)) / n)\n",
    "\n",
    "# Confidence interval\n",
    "CI_lower = p_hat - z_value * SE\n",
    "CI_upper = p_hat + z_value * SE\n",
    "\n",
    "print(f\"90% Confidence Interval: ({CI_lower:.4f}, {CI_upper:.4f})\")\n",
    "\n"
   ]
  },
  {
   "cell_type": "code",
   "execution_count": 23,
   "metadata": {},
   "outputs": [
    {
     "name": "stdout",
     "output_type": "stream",
     "text": [
      "T-statistic: 18.73141029124519\n",
      "P-value: 3.748639407718651e-34\n",
      "Reject the null hypothesis: There is a significant difference between the two methods.\n"
     ]
    }
   ],
   "source": [
    "import numpy as np\n",
    "from scipy import stats\n",
    "\n",
    "new_method_scores = [85, 88, 91, 79, 93, 84, 76, 92, 89, 85, 87, 80, 82, 91, 78, 85, 90, 84, 86, 92, 79, 83, 88, 84, 81, 86, 88, 91, 82, 89, 90, 87, 85, 90, 89, 88, 84, 85, 90, 86, 88, 89, 80, 92, 87, 81, 85, 86, 84, 90]  # New method test scores\n",
    "traditional_method_scores = [78, 74, 72, 70, 68, 76, 73, 71, 75, 77, 74, 72, 70, 75, 73, 76, 74, 72, 71, 70, 78, 79, 74, 75, 73, 72, 74, 77, 71, 73, 75, 72, 70, 74, 71, 76, 73, 75, 72, 74, 76, 72, 74, 77, 75, 74, 73, 70, 72, 71]  # Traditional method test scores\n",
    "\n",
    "\n",
    "t_stat, p_value = stats.ttest_ind(new_method_scores, traditional_method_scores)\n",
    "\n",
    "print(\"T-statistic:\", t_stat)\n",
    "print(\"P-value:\", p_value)\n",
    "\n",
    "\n",
    "alpha = 0.05\n",
    "if p_value < alpha:\n",
    "    print(\"Reject the null hypothesis: There is a significant difference between the two methods.\")\n",
    "else:\n",
    "    print(\"Fail to reject the null hypothesis: There is no significant difference between the two methods.\")\n"
   ]
  },
  {
   "cell_type": "code",
   "execution_count": null,
   "metadata": {},
   "outputs": [],
   "source": [
    "import scipy.stats as stats\n",
    "import math\n",
    "\n",
    "# Given data\n",
    "sample_mean = 510\n",
    "population_mean = 500\n",
    "sample_std = 20\n",
    "sample_size = 25\n",
    "\n",
    "\n",
    "t_stat = (sample_mean - population_mean) / (sample_std / math.sqrt(sample_size))\n",
    "\n",
    "df = sample_size - 1\n",
    "\n",
    "\n",
    "p_value = 2 * (1 - stats.t.cdf(abs(t_stat), df))\n",
    "\n",
    "\n",
    "print(\"T-statistic:\", t_stat)\n",
    "print(\"P-value:\", p_value)\n",
    "\n",
    "alpha = 0.05\n",
    "if p_value < alpha:\n",
    "    print(\"Reject the null hypothesis: There is evidence to suggest that the population mean is not 500 grams.\")\n",
    "else:\n",
    "    print(\"Fail to reject the null hypothesis: There is no significant evidence to suggest that the population mean is different from 500 grams.\")\n"
   ]
  }
 ],
 "metadata": {
  "kernelspec": {
   "display_name": "Python 3",
   "language": "python",
   "name": "python3"
  },
  "language_info": {
   "codemirror_mode": {
    "name": "ipython",
    "version": 3
   },
   "file_extension": ".py",
   "mimetype": "text/x-python",
   "name": "python",
   "nbconvert_exporter": "python",
   "pygments_lexer": "ipython3",
   "version": "3.12.3"
  }
 },
 "nbformat": 4,
 "nbformat_minor": 2
}
